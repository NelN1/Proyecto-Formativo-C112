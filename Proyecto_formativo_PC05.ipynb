{
 "cells": [
  {
   "attachments": {},
   "cell_type": "markdown",
   "metadata": {},
   "source": [
    "<h1>Generación de sobretonos musicales</h1>\n",
    "\n",
    "|Apellidos|Nombres|Especialidad|Código|\n",
    "|--|--|:--|:--|\n",
    "|Araujo Calderon|Patrick Willians|Ingeniería física|20220588A|\n",
    "|Neyra Otoya|Alejandro Oswaldo|Ingeniería física|20220577J|\n",
    "|Romero Calero|Nelson Samir|Física|20222160I|\n",
    "|Santa Cruz Basilio|Jesus Diego|Ciencia de la computación|20235005G|"
   ]
  },
  {
   "attachments": {},
   "cell_type": "markdown",
   "metadata": {},
   "source": [
    "## 1. Resumen\n",
    "En el presente proyecto, implementaremos un programa el cual genere cinco tonos musicales similares a una guitarra(de la misma escala musical) aleatoriamente. Para ello usaremos la clase *deque*, para generar el búfer circular, los módulos de *numpy* y *ufuncs*, para crear matrices, el módulo *wave*, para generar archivos WAV, el módulo *pygame* para reproducir el archivo WAV y el módulo *matplotlib*, para generar un gráfico."
   ]
  },
  {
   "attachments": {},
   "cell_type": "markdown",
   "metadata": {},
   "source": [
    "## 2. Introducción\n",
    "\n",
    "En el presente proyecto, generaremos cinco notas similares a las de una guitarra de una escala musical (una serie de notas relacionadas) usando el algoritmo de Karplus-Strong o otro y también las matrices de numpy, el módulo *wave* para crear archivos de audio formato WAV, la clase *deque* de las colecciones de python para implementar el búfer circular. También reproduciremos los archivos WAV con el módulo *pygame*. Crearemos una forma de reproducirlos aleatoriamente y dibujaremos gráficas usando matplotlib, además tocaremos la escala musical pentatónica."
   ]
  },
  {
   "attachments": {},
   "cell_type": "markdown",
   "metadata": {},
   "source": [
    "## 3. Objetivos\n",
    "### 3.1. Objetivos generales\n",
    "- Crear el archivo `WAV` usando el módulo *wave*.\n",
    "- Reproducir el archivo `WAV` creado usando el módulo *pygame*.\n",
    "\n",
    "### 3.2. Objetivos específicos\n",
    "- Crear el búfer circular usando la clase *deque* en Python.\n",
    "- Crear las matrices incorporando los módulos *numpy* y *ufuncs*.\n",
    "- Generar los sobretonos musicales usando *el algoritmo de Karplus-Strong*.\n",
    "- Generar gráficos usando el módulo matplotlib."
   ]
  },
  {
   "attachments": {},
   "cell_type": "markdown",
   "metadata": {},
   "source": [
    "## 4. Implementación y demostración de resultados\n",
    "Esta sección, mostratremos el proceso de la creación de los códigos implementados para generar lo pedido. Primero, implementaremos el algoritmo de Karplus-Strong y luego lo volcaremos en un archivo `WAV`:"
   ]
  },
  {
   "attachments": {},
   "cell_type": "markdown",
   "metadata": {},
   "source": [
    "Para reproducir el archivo `WAV` creado anteriormente, usaremos el módulo *pygame*:"
   ]
  },
  {
   "cell_type": "code",
   "execution_count": 2,
   "metadata": {},
   "outputs": [],
   "source": [
    "import pygame\n",
    "import time\n",
    "\n",
    "pygame.mixer.init()\n",
    "\n",
    "frecuencia_muestreo=44100 #Este se encuentra en Hertz\n",
    "duración=3.0\n",
    "\n",
    "tono=pygame.mixer.Sound(\"sobretono.wav\")\n",
    "tono.set_volume(1) #Configura el nivel del volumen entre la escala del 0.0 a 1.0\n",
    "\n",
    "tono.play() #Inicia la reproducción del archivo sobretono.wav\n",
    "\n",
    "time.sleep(duración)\n",
    "\n",
    "tono.stop() #Para la reproducción del archivo sobretono.wav"
   ]
  },
  {
   "attachments": {},
   "cell_type": "markdown",
   "metadata": {},
   "source": [
    "## Conclusiones"
   ]
  },
  {
   "attachments": {},
   "cell_type": "markdown",
   "metadata": {},
   "source": [
    "## Verificación"
   ]
  },
  {
   "attachments": {},
   "cell_type": "markdown",
   "metadata": {},
   "source": [
    "## Referencias"
   ]
  }
 ],
 "metadata": {
  "kernelspec": {
   "display_name": "Python 3",
   "language": "python",
   "name": "python3"
  },
  "language_info": {
   "codemirror_mode": {
    "name": "ipython",
    "version": 3
   },
   "file_extension": ".py",
   "mimetype": "text/x-python",
   "name": "python",
   "nbconvert_exporter": "python",
   "pygments_lexer": "ipython3",
   "version": "3.10.4"
  },
  "orig_nbformat": 4
 },
 "nbformat": 4,
 "nbformat_minor": 2
}

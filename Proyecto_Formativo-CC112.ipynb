{
 "cells": [
  {
   "cell_type": "markdown",
   "id": "019e3457",
   "metadata": {},
   "source": [
    "<h1>Generación de sobretonos musicales</h1>\n",
    "\n",
    "|Apellidos|Nombres|Especialidad|Código|\n",
    "|:--|:--|:--|:--|\n",
    "|Araujo Calderon|Patrick Willians|Ingeniería física|20220588A|\n",
    "|Neyra Otoya|Alejandro Oswaldo|Ingeniería física|20220577J|\n",
    "|Romero Calero|Nelson Samir|Física|20222160I|\n",
    "|Santa Cruz Basilio|Jesus Diego|Ciencia de la computación|20235005G|"
   ]
  },
  {
   "cell_type": "markdown",
   "id": "38db304f",
   "metadata": {},
   "source": [
    "## 1. Resumen\n",
    "En el presente proyecto, implementaremos un programa el cual genere cinco tonos musicales similares a una guitarra aleatoriamente. Para ello, importaremos librerías que nos ayudarán a desarrollar e implementar el programa, este programa creará archivos `WAV`, reproducirá una melodía aleatoria en la escala pentatónica menor, mostrará un gráfico en el cual que muestra la perdía de energía de la nota tocada y tendrá un modo para tocar las notas en modo piano. Usaremos el código fuente base de Mahesh Venkitachalam para desarrollar nuestro código e iremos implementando y corrigiendo algunos errores de este código base, todo el desarrollo e implementación lo haremos en el lenguaje python 3. "
   ]
  },
  {
   "cell_type": "markdown",
   "id": "438653b3",
   "metadata": {},
   "source": [
    "## 2. Introducción\n",
    "### 2.1. Presentación del algoritmo de Karplus-Strong \n",
    "Para comenzar a desarrollar nuestro código, primero hay que entender como funciona el algoritmo de Karplus-Strong. El algoritmo es un método de síntesis de sonido basado en el modelado físico, que se utiliza principalmente para simular el sonido de una cuerda pulsada o golpeada, por ejemplo, como es el caso de una guitarra o de un piano. La idea básica del algoritmo es eliminar los frecuencias más altas para que el sonido de la notas se escuche más natural. Para eso, pasaremos a las ondas mediante un pasa-bajos que se multiplica por un factor de atenuación y así simule la perdía de energía de las notas musicales.\n",
    "### 2.2. La escala pentatónica\n",
    "La escala hace referencia a una serie de pasos o escalones que ascienden o desciende gradualmente. En la música, los escalones son las notas musicales. Cuando usamos notas de distinta afinación que ascienden o descienden de manera organizada y con distancias determinadas entre una y otra, estamos formando una escala.\n",
    "\n",
    "Para analizar una **escala musical** necesitamos entender un concepto funamental: el **intervalo musical**. El intervalo es la distancia que hay entre una y otra. La medida que usamos para determinar esto es una unidad musical a la que le llamamos **\"tono\"**. Finalmente, la otra unidad fundamental para medir intervalos es el **\"semitono\"** que no es más que medio tono.\n",
    "\n",
    "Para entender mejor este concepto puedesver un piano, ya que es muy útil para poder visualizar las distancias entre las notas. Si mira las teclas, notarás que hay blancas y negras. Debes saber que hay un tono completo entreuna y otra nota cuando hay una tecla de por medio. Otra forma de verlo es que la distancia que hay entre una tecla y otra, sin importar el color, es un semitono. Por ejemplo, podemos ver que entre Do y Re hay una tecla negra, así que su distancia que es 1 tono completo.\n",
    "\n",
    "La palabra pentatónica, se compone de dos conceptos: \"*penta*\" que significa cinco, y \"*tónica*\" que se refiere tono. Si funcionamos estos conceptos obtenemos que la escala pentatónica significa \"*la escala de cinco tonos*\".Precisamente esta escala se compone de 5 notas distintas y existen varias que cumplen estos requisitos, sin embargo la más utilizada son **la escal pentatónica mayor** y **la escala pentatónica menor**.\n",
    "\n",
    "Una particularidad esencial de esta escala es que **no tiene semitonos**, como la muchas de las otras escalas.\n",
    "\n",
    "#### 2.2.2. La escala pentatónica menor\n",
    "Como en cualquier otra, una escala se convierte en menor al disminuir la tercera y la séptima nota por medio tono (*tercera menor* y *séptima menor*). Pause."
   ]
  },
  {
   "cell_type": "markdown",
   "id": "0d396121",
   "metadata": {},
   "source": [
    "## 3. Objetivos\n",
    "### 3.1. Objetivos generales\n",
    "- Crear el archivo `WAV` usando el módulo *wave*.\n",
    "- Reproducir el archivo `WAV` creado usando el módulo *pygame*.\n",
    "\n",
    "### 3.2. Objetivos específicos\n",
    "- Crear el búfer circular usando la clase *deque* en Python.\n",
    "- Crear las matrices incorporando los módulos *numpy* y *ufuncs*.\n",
    "- Generar los sobretonos musicales usando *el algoritmo de Karplus-Strong*.\n",
    "- Generar gráficos usando el módulo matplotlib."
   ]
  },
  {
   "cell_type": "markdown",
   "id": "755c4a94",
   "metadata": {},
   "source": [
    "## 4. Implementación y demostración de resultados\n",
    "En esta sección, nos centraremos en el desarrollo e implementación del código, el cual lo dividiremos en 7 partes, para explicar paso a paso que hace cada línea, para ello comentaremos las lineas, que son necesarias para el entendimiento de esta. Primero, entenderemos las métodos que usaremos de la clase `deque`. Segundo, desarrollaremos un programa que genera un archivo WAV. Tercero, desarrollaremos el algoritmo Karplus-Strong para luego implementarlo en la función principal.\n",
    "### 4.1. Métodos de la clase deque\n"
   ]
  },
  {
   "cell_type": "code",
   "execution_count": 1,
   "id": "c15ef885",
   "metadata": {},
   "outputs": [
    {
     "name": "stdout",
     "output_type": "stream",
     "text": [
      "deque([0, 1, 2, 3, 4, 5, 6, 7, 8, 9])\n"
     ]
    }
   ],
   "source": [
    "#Importamos la clase deque\n",
    "from collections import deque\n",
    "\n",
    "#Genere un objeto \"d\" de la clase deque de 10 elementos de 0 hasta 9\n",
    "d=deque(range(10))\n",
    "#Imprime el objeto \"d\" y la función str() convierte a el objeto \"d\" a un string\n",
    "print(str(d))"
   ]
  },
  {
   "cell_type": "code",
   "execution_count": 2,
   "id": "c1155783",
   "metadata": {},
   "outputs": [
    {
     "name": "stdout",
     "output_type": "stream",
     "text": [
      "deque([0, 1, 2, 3, 4, 5, 6, 7, 8, 9, -1])\n"
     ]
    }
   ],
   "source": [
    "#Añade al elemento -1 al final de la lista\n",
    "d.append(-1)\n",
    "print(str(d))"
   ]
  },
  {
   "cell_type": "code",
   "execution_count": 3,
   "id": "9d455986",
   "metadata": {},
   "outputs": [
    {
     "name": "stdout",
     "output_type": "stream",
     "text": [
      "deque([1, 2, 3, 4, 5, 6, 7, 8, 9, -1])\n",
      "0\n"
     ]
    }
   ],
   "source": [
    "#el método popleft devuelve y elimina el elemento que se encuentra al inicio de la lista\n",
    "value=d.popleft()\n",
    "print(str(d))\n",
    "print(str(value))"
   ]
  },
  {
   "cell_type": "markdown",
   "id": "b67d9438",
   "metadata": {},
   "source": [
    "### 4.2. Creando un archivo WAV"
   ]
  },
  {
   "cell_type": "code",
   "execution_count": 4,
   "id": "faa856bd",
   "metadata": {},
   "outputs": [],
   "source": [
    "# Importamos los módulos necesarios\n",
    "import numpy as np\n",
    "import wave, math\n",
    "import matplotlib.pyplot as plt\n",
    "\n",
    "#Crea la variable Sample rate y asigna el valor de 44100\n",
    "sRate = 44100\n",
    "#Crea la variable nSample y asigna el valor de sRate multiplicado por 5\n",
    "nSamples = sRate * 5\n",
    "\n",
    "# Crea un ndarray de tamaño de nSamples de elementos que va desde 0 hasta nSample-1,\n",
    "# y todos los elementos son divididos entre el float sRate\n",
    "x = np.arange(nSamples)/float(sRate)\n",
    "#Crea un ndarray \"vals\" en función a los elementos del ndarray \"x\"\n",
    "vals = np.sin(2.0*math.pi*220*x)\n",
    "\n",
    "# luego de generar la amplitud crearemos el archivo, los valores de la onda sinusoidal calculados en el rango [-1,1] se\n",
    "# escalan a valores de 16 bits y se convierten a una cadena de caracteres.\n",
    "data = np.array(vals*32767, 'int16').tobytes()\n",
    "#Abre el archivo sine.wav usando el método wave.open() (en el caso de que no sea haya creado, crea un archivo del tipo wav) \n",
    "file = wave.open('sine22O.wav', 'wb')\n",
    "\n",
    "# Agregamos los parametros necesarios para configurar el archivo WAV.\n",
    "file.setparams((1, 2, sRate, nSamples, 'NONE', 'uncompressed'))\n",
    "\n",
    "# Escribimos el archivo WAV usando los parametros anteriormente agregados:\n",
    "file.writeframes(data)\n",
    "\n",
    "# Cerramos el archivo para volcar las cambios\n",
    "file.close()"
   ]
  },
  {
   "cell_type": "code",
   "execution_count": 5,
   "id": "73cc7256",
   "metadata": {},
   "outputs": [
    {
     "data": {
      "image/png": "[encoded data removed]",
      "text/plain": [
       "<Figure size 640x480 with 1 Axes>"
      ]
     },
     "metadata": {},
     "output_type": "display_data"
    }
   ],
   "source": [
    "#Crea un gráfico en el cual los valores de las abscisas es el ndarray \"x\"\n",
    "# y los valores de las ordenadas es el ndarray \"vals\"\n",
    "plt.plot(x,vals)\n",
    "plt.show()\n"
   ]
  },
  {
   "cell_type": "markdown",
   "id": "4fe84278",
   "metadata": {},
   "source": [
    "### 4.3. Implementación del algoritmo de Karplus-Strong"
   ]
  },
  {
   "cell_type": "code",
   "execution_count": 8,
   "id": "32e54dac",
   "metadata": {},
   "outputs": [],
   "source": [
    "# Genera una nota según el parametro de frecuencia ingresado\n",
    "def generateNote(freq):\n",
    "    #freq=220\n",
    "    nSamples = 44100\n",
    "    sampleRate = 44100\n",
    "    N = int(sampleRate/freq)\n",
    "    # initialize ring buffer\n",
    "    buf = deque([random.random() - 0.5 for i in range(N)])\n",
    "    # init sample buffer\n",
    "    samples = np.array([0]*nSamples, 'float32')\n",
    "    for i in range(nSamples):\n",
    "        samples[i] = buf[0]\n",
    "        avg = 0.995*0.5*(buf[0] + buf[1])\n",
    "        buf.append(avg)\n",
    "        buf.popleft() \n",
    "    # plot of flag set \n",
    "        if gShowPlot:\n",
    "            if i % 1000 == 0:\n",
    "                plt.axline.set_ydata(buf)\n",
    "                plt.draw()\n",
    "    # samples to 16-bit to string\n",
    "    # max value is 32767 for 16-bit\n",
    "        samples = np.array(samples * 32767, 'int16')\n",
    "        print(samples.tostring())\n",
    "    return samples.tostring()"
   ]
  },
  {
   "cell_type": "markdown",
   "id": "a8936411",
   "metadata": {},
   "source": [
    "## Conclusiones"
   ]
  },
  {
   "cell_type": "markdown",
   "id": "8c707c69",
   "metadata": {},
   "source": [
    "## Verificación"
   ]
  },
  {
   "cell_type": "markdown",
   "id": "f0a4fa5e",
   "metadata": {},
   "source": [
    "## Referencias"
   ]
  }
 ],
 "metadata": {
  "kernelspec": {
   "display_name": "Python 3 (ipykernel)",
   "language": "python",
   "name": "python3"
  },
  "language_info": {
   "codemirror_mode": {
    "name": "ipython",
    "version": 3
   },
   "file_extension": ".py",
   "mimetype": "text/x-python",
   "name": "python",
   "nbconvert_exporter": "python",
   "pygments_lexer": "ipython3",
   "version": "3.10.4"
  }
 },
 "nbformat": 4,
 "nbformat_minor": 5
}
